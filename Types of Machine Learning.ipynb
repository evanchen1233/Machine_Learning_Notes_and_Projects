{
 "cells": [
  {
   "cell_type": "markdown",
   "id": "f610c3af-a538-4a4b-baca-9498b2da9b7e",
   "metadata": {},
   "source": [
    "# Machine Learning"
   ]
  },
  {
   "cell_type": "markdown",
   "id": "28a0a987-3213-4a44-b42d-827376579841",
   "metadata": {},
   "source": [
    "### Machine Learning is the science of making computers learn and act like humans <br> by feeding data and information without being explicitly programmed."
   ]
  },
  {
   "attachments": {},
   "cell_type": "markdown",
   "id": "e72eea84-c72e-4c60-9d6a-0795c2011177",
   "metadata": {},
   "source": [
    "<img src=\"Image/ML2.JPG\"  width=\"600\" height=\"450\" class=\"center\">"
   ]
  },
  {
   "attachments": {},
   "cell_type": "markdown",
   "id": "697f5efe-efac-438a-9dad-d477b9fd2f94",
   "metadata": {},
   "source": [
    "<img src=\"Image/ML.JPG\"  width=\"600\" height=\"300\">"
   ]
  },
  {
   "cell_type": "markdown",
   "id": "89041373-8870-4b33-ae53-ab328db7dfbb",
   "metadata": {},
   "source": [
    "# Supervised Learning\n",
    "\n",
    "* Labeled data\n",
    "* Classification (Will I get salary increase?)\n",
    "  * When the output variable is categorical, discrete values i.e. with 2 or more classes (yes/no, like/dislike), we make use of classification\n",
    "* Regression (How much salary will I get?)\n",
    "  * When the output variable is real or continuous value (salary => work experience), showing trends of data\n",
    "  * Relationship between two or more variable s where a change in one variable is associated with a change in other variable "
   ]
  },
  {
   "attachments": {},
   "cell_type": "markdown",
   "id": "6201321f-bb56-41c6-8b91-ff8d8dec92e6",
   "metadata": {},
   "source": [
    "### In Supervised Learning, a model is able to predict with the help of labeled dataset\n",
    "### Classification\n",
    "<img src=\"Image/Supervised_Learning.JPG\"  width=\"600\" height=\"300\">\n",
    "\n",
    "### Regression\n",
    "<img src=\"Image/Regression.JPG\"  width=\"600\" height=\"300\">"
   ]
  },
  {
   "cell_type": "markdown",
   "id": "34b79770-9bce-49d6-a875-2efa26d9d576",
   "metadata": {},
   "source": [
    "### Applications of Supervised Learning\n",
    "* Risk Assessment (risk portfolio of the company)\n",
    "* Fraud Detection\n",
    "* Image Classification (tags of friends, pets)\n",
    "* Visual Recognition (identify objects, places, people and actions and images)"
   ]
  },
  {
   "cell_type": "markdown",
   "id": "0222236c-333c-444f-b4f4-68c20ab7d02e",
   "metadata": {},
   "source": [
    "# Unsupervised Learning\n",
    "* Unlabeled data\n",
    "* Machine tries to identify patterns (grouping data)and gives the response\n",
    "* Clustering (Which customers made similar products purchases)\n",
    "  * The method of dividing the objects into clusters which are similar between them and are dissimilar to the objects belonging to another cluster\n",
    "* Association (Which products were purchased together?)\n",
    "  * Discovering the probability of the co-occurrence of items in a collection"
   ]
  },
  {
   "attachments": {},
   "cell_type": "markdown",
   "id": "173da67f-e67f-432f-9ab3-8214f8388f75",
   "metadata": {},
   "source": [
    "### In Unsupervised Learning, the algorithm is trained and using data that is unlabeled\n",
    "<img src=\"Image/Unsupervised_Learning.JPG\"  width=\"600\" height=\"300\">\n",
    "\n",
    "### Clustering\n",
    "<img src=\"Image/Clustering.JPG\"  width=\"600\" height=\"300\">\n",
    "\n",
    "### Association\n",
    "<img src=\"Image/Association.JPG\"  width=\"600\" height=\"300\">"
   ]
  },
  {
   "cell_type": "markdown",
   "id": "063bfea3-a913-47be-a259-5dd838cf7f81",
   "metadata": {},
   "source": [
    "### Application in Unsupervised Learning\n",
    "* Market Basket Analysis (Customers buy A and B are less likely to buy C)\n",
    "* Semantic Clustering ()\n",
    "* Delivery Store Optimization (predict the demand and keep up with supply)\n",
    "* Identifying Accident Prone Areas"
   ]
  },
  {
   "attachments": {},
   "cell_type": "markdown",
   "id": "907a4c65-cad1-4d92-be3f-7b572547b403",
   "metadata": {},
   "source": [
    "<img src=\"Image/Comparison.JPG\"  width=\"600\" height=\"300\">"
   ]
  },
  {
   "cell_type": "markdown",
   "id": "7643df24-4362-4b7c-89cd-3599ac451625",
   "metadata": {},
   "source": [
    "# Reinforcement Learning\n",
    "* reward based learning, positive and negative feedback\n",
    "* works on the principle of feedback"
   ]
  },
  {
   "cell_type": "markdown",
   "id": "0acb21a2-a55b-4088-83ee-5075b43b15cb",
   "metadata": {},
   "source": [
    "# Application of machine learning\n",
    "* Disease diagnosis such as Alzheimer's disease, heart failure, breast cancer, and pneumonia\n",
    "* Sentiment analysis on social media\n",
    "* Fraud detection\n",
    "* E-commerce\n",
    "* Differential pricing in real time based on demand, number of cars available, bad weather and rush hour by Uber"
   ]
  }
 ],
 "metadata": {
  "kernelspec": {
   "display_name": "Python 3 (ipykernel)",
   "language": "python",
   "name": "python3"
  },
  "language_info": {
   "codemirror_mode": {
    "name": "ipython",
    "version": 3
   },
   "file_extension": ".py",
   "mimetype": "text/x-python",
   "name": "python",
   "nbconvert_exporter": "python",
   "pygments_lexer": "ipython3",
   "version": "3.9.17"
  }
 },
 "nbformat": 4,
 "nbformat_minor": 5
}
