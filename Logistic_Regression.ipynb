{
 "cells": [
  {
   "cell_type": "markdown",
   "id": "15127a49-dd29-4699-adf5-1532d08c0386",
   "metadata": {},
   "source": [
    "# Logistic Regression\n",
    "### Logistic regression is a statistical method used to model the probability of a certain event or outcome occurring (Binary Classification).\n",
    "*  Discrete output\n",
    "*  Solve Classification problem\n",
    "*  Consider as generalized linear model because the outcome depends on the sum of the inputs and parameters"
   ]
  },
  {
   "cell_type": "markdown",
   "id": "7e1b17d7-03ce-4bfb-9c48-56c41f1ad075",
   "metadata": {},
   "source": [
    "### The Math behind\n",
    "<img src=\"Image/Logistic_Regression.JPG\"  width=\"600\" height=\"300\">\n",
    "<img src=\"Image/Logistic_Regression2.JPG\"  width=\"600\" height=\"300\">\n",
    "<img src=\"Image/Logistic_Regression3.JPG\"  width=\"600\" height=\"300\">"
   ]
  },
  {
   "cell_type": "markdown",
   "id": "4d2eb5c8-e93d-4de2-9e28-babc3d505697",
   "metadata": {},
   "source": [
    "### Difference between Linear Regression and Logistic Regression\n",
    "<table align=\"left\">\n",
    "    <tr>\n",
    "        <td><img src=\"Image/Logistic_Regression4.JPG\" width=\"300\" height=\"300\"></td>\n",
    "        <td><img src=\"Image/Logistic_Regression5.JPG\" width=\"300\" height=\"300\"></td>\n",
    "    </tr>\n",
    "</table>"
   ]
  },
  {
   "cell_type": "markdown",
   "id": "9c028e2b-e499-4b0b-8c8f-9ce76109d23d",
   "metadata": {},
   "source": [
    "### Application of Logistic Regression\n",
    "* Weather Prediction (rain or not)\n",
    "* Image Categorization (Identifies the different components that are present in the image, and helps categorize them i.e. dog or not a dog, <s>dog or cat</s>)\n",
    "* Healthcare (Determines the possibility if patient survival, taking age, ISS and RTS into consideration)"
   ]
  },
  {
   "cell_type": "markdown",
   "id": "b11c8e90-7215-4a44-9b9b-261ad44f7365",
   "metadata": {},
   "source": [
    "### Use case implementation of Logistic Regression - Predicting numbers\n",
    "<img src=\"Image/Logistic_Regression6.JPG\" width=\"600\" height=\"300\">\n",
    "<img src=\"Image/Logistic_Regression7.JPG\" width=\"600\" height=\"300\">"
   ]
  },
  {
   "cell_type": "markdown",
   "id": "8707a548-adef-484d-b49b-e7ed7929e02a",
   "metadata": {},
   "source": [
    "### 1. Importing the Libraries"
   ]
  },
  {
   "cell_type": "code",
   "execution_count": 1,
   "id": "2b2619ee-4d4d-4a2f-8642-19d5f78cb449",
   "metadata": {},
   "outputs": [],
   "source": [
    "import matplotlib.pyplot as plt\n",
    "import numpy as np\n",
    "import seaborn as sns\n",
    "from sklearn import metrics\n",
    "from sklearn.datasets import load_digits\n",
    "%matplotlib inline\n",
    "digits = load_digits()"
   ]
  },
  {
   "cell_type": "markdown",
   "id": "5eae8c88-12a1-4d39-95c4-30a00a228b02",
   "metadata": {},
   "source": [
    "### 2. Determining the total number of images and labels"
   ]
  },
  {
   "cell_type": "code",
   "execution_count": 2,
   "id": "45f545bc-22b8-4c0d-876e-14cb18eb61bf",
   "metadata": {},
   "outputs": [
    {
     "name": "stdout",
     "output_type": "stream",
     "text": [
      "Image Data Shape (1797, 64)\n",
      "Lable Data Shape (1797,)\n"
     ]
    }
   ],
   "source": [
    "print(\"Image Data Shape\", digits.data.shape)\n",
    "print(\"Lable Data Shape\", digits.target.shape)"
   ]
  },
  {
   "cell_type": "code",
   "execution_count": 3,
   "id": "f56b7bb9-3281-440d-9fe1-b59d5e1785c6",
   "metadata": {},
   "outputs": [
    {
     "data": {
      "text/plain": [
       "array([[ 0.,  0.,  5., 13.,  9.,  1.,  0.,  0.,  0.,  0., 13., 15., 10.,\n",
       "        15.,  5.,  0.,  0.,  3., 15.,  2.,  0., 11.,  8.,  0.,  0.,  4.,\n",
       "        12.,  0.,  0.,  8.,  8.,  0.,  0.,  5.,  8.,  0.,  0.,  9.,  8.,\n",
       "         0.,  0.,  4., 11.,  0.,  1., 12.,  7.,  0.,  0.,  2., 14.,  5.,\n",
       "        10., 12.,  0.,  0.,  0.,  0.,  6., 13., 10.,  0.,  0.,  0.]])"
      ]
     },
     "execution_count": 3,
     "metadata": {},
     "output_type": "execute_result"
    }
   ],
   "source": [
    "#Each image is 8x8 which represent the activation of the image\n",
    "digits.data[0:1]"
   ]
  },
  {
   "cell_type": "markdown",
   "id": "3ec08fde-cdcd-44d0-9da4-de9967dcfce2",
   "metadata": {},
   "source": [
    "### 3. Displaying some of the images and labels"
   ]
  },
  {
   "cell_type": "code",
   "execution_count": 4,
   "id": "517f17eb-05b6-4b68-a18a-d71e92cb08bb",
   "metadata": {},
   "outputs": [
    {
     "data": {
      "image/png": "[encoded data removed]",
      "text/plain": [
       "<Figure size 2000x400 with 5 Axes>"
      ]
     },
     "metadata": {},
     "output_type": "display_data"
    }
   ],
   "source": [
    "#label/target is 0, 1, 2, 3, ...\n",
    "plt.figure(figsize=(20,4))\n",
    "for index, (image, label) in enumerate(zip(digits.data[0:5], digits.target[0:5])):\n",
    "    plt.subplot(1,5,index+1)\n",
    "    plt.imshow(np.reshape(image, (8,8)), cmap=plt.cm.gray)\n",
    "    plt.title('Training: %i\\n' % label, fontsize = 20)"
   ]
  },
  {
   "cell_type": "markdown",
   "id": "1c7c6a27-1d0c-413c-be81-646f5ef9b53b",
   "metadata": {},
   "source": [
    "### 4. Diving dataset into Training and Test set"
   ]
  },
  {
   "cell_type": "code",
   "execution_count": 5,
   "id": "97105bf1-81a9-42da-a08b-6356f44afb25",
   "metadata": {},
   "outputs": [],
   "source": [
    "from sklearn.model_selection import train_test_split\n",
    "X_train, X_test, y_train, y_test = train_test_split(digits.data, digits.target, test_size=0.23, random_state=2)"
   ]
  },
  {
   "cell_type": "code",
   "execution_count": 6,
   "id": "4523d592-cc0d-403b-ba4c-74e61559dc5b",
   "metadata": {},
   "outputs": [
    {
     "name": "stdout",
     "output_type": "stream",
     "text": [
      "(1383, 64)\n",
      "(1383,)\n",
      "(414, 64)\n",
      "(414,)\n"
     ]
    }
   ],
   "source": [
    "print(X_train.shape)\n",
    "print(y_train.shape)\n",
    "print(X_test.shape)\n",
    "print(y_test.shape)"
   ]
  },
  {
   "cell_type": "markdown",
   "id": "d1dac6e4-b3a9-4375-8741-b3ea6aec0908",
   "metadata": {},
   "source": [
    "### 5. Importing the Logistic Regression model"
   ]
  },
  {
   "cell_type": "code",
   "execution_count": 7,
   "id": "aeab3af2-00f1-44dc-8fc6-e1e02246d4f1",
   "metadata": {},
   "outputs": [],
   "source": [
    "from sklearn.linear_model import LogisticRegression"
   ]
  },
  {
   "cell_type": "markdown",
   "id": "8f1e4828-a2bf-455f-b6c2-c77cd1f018d6",
   "metadata": {},
   "source": [
    "### 6. Making an instance of the model and training it"
   ]
  },
  {
   "cell_type": "code",
   "execution_count": 8,
   "id": "8300a61e-8646-484f-b834-e1d687328bb9",
   "metadata": {},
   "outputs": [
    {
     "data": {
      "text/html": [
       "<style>#sk-container-id-1 {color: black;}#sk-container-id-1 pre{padding: 0;}#sk-container-id-1 div.sk-toggleable {background-color: white;}#sk-container-id-1 label.sk-toggleable__label {cursor: pointer;display: block;width: 100%;margin-bottom: 0;padding: 0.3em;box-sizing: border-box;text-align: center;}#sk-container-id-1 label.sk-toggleable__label-arrow:before {content: \"▸\";float: left;margin-right: 0.25em;color: #696969;}#sk-container-id-1 label.sk-toggleable__label-arrow:hover:before {color: black;}#sk-container-id-1 div.sk-estimator:hover label.sk-toggleable__label-arrow:before {color: black;}#sk-container-id-1 div.sk-toggleable__content {max-height: 0;max-width: 0;overflow: hidden;text-align: left;background-color: #f0f8ff;}#sk-container-id-1 div.sk-toggleable__content pre {margin: 0.2em;color: black;border-radius: 0.25em;background-color: #f0f8ff;}#sk-container-id-1 input.sk-toggleable__control:checked~div.sk-toggleable__content {max-height: 200px;max-width: 100%;overflow: auto;}#sk-container-id-1 input.sk-toggleable__control:checked~label.sk-toggleable__label-arrow:before {content: \"▾\";}#sk-container-id-1 div.sk-estimator input.sk-toggleable__control:checked~label.sk-toggleable__label {background-color: #d4ebff;}#sk-container-id-1 div.sk-label input.sk-toggleable__control:checked~label.sk-toggleable__label {background-color: #d4ebff;}#sk-container-id-1 input.sk-hidden--visually {border: 0;clip: rect(1px 1px 1px 1px);clip: rect(1px, 1px, 1px, 1px);height: 1px;margin: -1px;overflow: hidden;padding: 0;position: absolute;width: 1px;}#sk-container-id-1 div.sk-estimator {font-family: monospace;background-color: #f0f8ff;border: 1px dotted black;border-radius: 0.25em;box-sizing: border-box;margin-bottom: 0.5em;}#sk-container-id-1 div.sk-estimator:hover {background-color: #d4ebff;}#sk-container-id-1 div.sk-parallel-item::after {content: \"\";width: 100%;border-bottom: 1px solid gray;flex-grow: 1;}#sk-container-id-1 div.sk-label:hover label.sk-toggleable__label {background-color: #d4ebff;}#sk-container-id-1 div.sk-serial::before {content: \"\";position: absolute;border-left: 1px solid gray;box-sizing: border-box;top: 0;bottom: 0;left: 50%;z-index: 0;}#sk-container-id-1 div.sk-serial {display: flex;flex-direction: column;align-items: center;background-color: white;padding-right: 0.2em;padding-left: 0.2em;position: relative;}#sk-container-id-1 div.sk-item {position: relative;z-index: 1;}#sk-container-id-1 div.sk-parallel {display: flex;align-items: stretch;justify-content: center;background-color: white;position: relative;}#sk-container-id-1 div.sk-item::before, #sk-container-id-1 div.sk-parallel-item::before {content: \"\";position: absolute;border-left: 1px solid gray;box-sizing: border-box;top: 0;bottom: 0;left: 50%;z-index: -1;}#sk-container-id-1 div.sk-parallel-item {display: flex;flex-direction: column;z-index: 1;position: relative;background-color: white;}#sk-container-id-1 div.sk-parallel-item:first-child::after {align-self: flex-end;width: 50%;}#sk-container-id-1 div.sk-parallel-item:last-child::after {align-self: flex-start;width: 50%;}#sk-container-id-1 div.sk-parallel-item:only-child::after {width: 0;}#sk-container-id-1 div.sk-dashed-wrapped {border: 1px dashed gray;margin: 0 0.4em 0.5em 0.4em;box-sizing: border-box;padding-bottom: 0.4em;background-color: white;}#sk-container-id-1 div.sk-label label {font-family: monospace;font-weight: bold;display: inline-block;line-height: 1.2em;}#sk-container-id-1 div.sk-label-container {text-align: center;}#sk-container-id-1 div.sk-container {/* jupyter's `normalize.less` sets `[hidden] { display: none; }` but bootstrap.min.css set `[hidden] { display: none !important; }` so we also need the `!important` here to be able to override the default hidden behavior on the sphinx rendered scikit-learn.org. See: https://github.com/scikit-learn/scikit-learn/issues/21755 */display: inline-block !important;position: relative;}#sk-container-id-1 div.sk-text-repr-fallback {display: none;}</style><div id=\"sk-container-id-1\" class=\"sk-top-container\"><div class=\"sk-text-repr-fallback\"><pre>LogisticRegression(max_iter=3000)</pre><b>In a Jupyter environment, please rerun this cell to show the HTML representation or trust the notebook. <br />On GitHub, the HTML representation is unable to render, please try loading this page with nbviewer.org.</b></div><div class=\"sk-container\" hidden><div class=\"sk-item\"><div class=\"sk-estimator sk-toggleable\"><input class=\"sk-toggleable__control sk-hidden--visually\" id=\"sk-estimator-id-1\" type=\"checkbox\" checked><label for=\"sk-estimator-id-1\" class=\"sk-toggleable__label sk-toggleable__label-arrow\">LogisticRegression</label><div class=\"sk-toggleable__content\"><pre>LogisticRegression(max_iter=3000)</pre></div></div></div></div></div>"
      ],
      "text/plain": [
       "LogisticRegression(max_iter=3000)"
      ]
     },
     "execution_count": 8,
     "metadata": {},
     "output_type": "execute_result"
    }
   ],
   "source": [
    "logisticRegr = LogisticRegression(max_iter=3000)\n",
    "logisticRegr.fit(X_train, y_train)"
   ]
  },
  {
   "cell_type": "markdown",
   "id": "0ba8dd83-e3db-4180-8a7f-5da8792e0613",
   "metadata": {},
   "source": [
    "### 7. Prediction the output of the first element of the test set"
   ]
  },
  {
   "cell_type": "code",
   "execution_count": 9,
   "id": "36236f7c-0e61-4a53-940e-c9c7d79a3108",
   "metadata": {},
   "outputs": [
    {
     "name": "stdout",
     "output_type": "stream",
     "text": [
      "[4]\n"
     ]
    }
   ],
   "source": [
    "print(logisticRegr.predict(X_test[0].reshape(1,-1)))"
   ]
  },
  {
   "cell_type": "markdown",
   "id": "07c6a968-a485-4894-829d-a8041b0a3a60",
   "metadata": {},
   "source": [
    "### 8. Predicting the output of the first 10 elements of the test set"
   ]
  },
  {
   "cell_type": "code",
   "execution_count": 10,
   "id": "e9259b1a-518e-47b4-9cf5-1f1bb47b1bb2",
   "metadata": {},
   "outputs": [
    {
     "name": "stdout",
     "output_type": "stream",
     "text": [
      "[4 0 9 1 8 7 1 5 1 6]\n"
     ]
    }
   ],
   "source": [
    "print(logisticRegr.predict(X_test[:10]))"
   ]
  },
  {
   "cell_type": "markdown",
   "id": "a19cf212-e952-4988-b105-929ebfd897d1",
   "metadata": {},
   "source": [
    "### 9. Predicting for the entire dataset"
   ]
  },
  {
   "cell_type": "code",
   "execution_count": 11,
   "id": "2a751171-9f18-47e3-8ba9-76c01f30689d",
   "metadata": {},
   "outputs": [],
   "source": [
    "y_pred = logisticRegr.predict(X_test)"
   ]
  },
  {
   "cell_type": "markdown",
   "id": "63c49d23-0e92-4f7e-8d5c-92a0ad67eb38",
   "metadata": {},
   "source": [
    "### 10. Determining the accuracy of the model"
   ]
  },
  {
   "cell_type": "code",
   "execution_count": 44,
   "id": "cadafc9b-d218-4a47-9551-c97d60b69316",
   "metadata": {},
   "outputs": [
    {
     "name": "stdout",
     "output_type": "stream",
     "text": [
      "0.9492753623188406\n"
     ]
    }
   ],
   "source": [
    "# Accuracy score\n",
    "score = logisticRegr.score(X_test,y_test)\n",
    "print(score)"
   ]
  },
  {
   "cell_type": "markdown",
   "id": "36da412e-bde9-4450-bd09-f0b5cf226ecc",
   "metadata": {},
   "source": [
    "### 11. Confusion matrix "
   ]
  },
  {
   "cell_type": "code",
   "execution_count": 13,
   "id": "1a4dc9d1-0e97-4f1a-b041-920dac566932",
   "metadata": {},
   "outputs": [
    {
     "name": "stdout",
     "output_type": "stream",
     "text": [
      "[[37  0  0  0  1  0  0  0  0  0]\n",
      " [ 0 46  0  1  0  0  0  0  1  0]\n",
      " [ 0  0 43  0  0  0  0  0  0  0]\n",
      " [ 0  0  0 39  0  0  0  2  1  0]\n",
      " [ 0  0  0  0 34  0  0  0  3  1]\n",
      " [ 0  1  0  0  1 43  0  0  0  1]\n",
      " [ 0  1  0  0  0  0 39  0  1  0]\n",
      " [ 0  0  0  0  0  0  0 45  1  0]\n",
      " [ 0  0  0  0  1  0  0  0 36  1]\n",
      " [ 0  0  0  1  0  1  0  0  1 31]]\n"
     ]
    }
   ],
   "source": [
    "cm = metrics.confusion_matrix(y_test,y_pred)\n",
    "print(cm)"
   ]
  },
  {
   "cell_type": "markdown",
   "id": "d3d27e43-5dd8-4da1-9705-3cd4ec1a03cb",
   "metadata": {},
   "source": [
    "### 12. Representing the confusion matrix in a hear map"
   ]
  },
  {
   "cell_type": "code",
   "execution_count": 78,
   "id": "dfd5aafd-209d-4655-ab83-c032389e476c",
   "metadata": {},
   "outputs": [
    {
     "data": {
      "image/png": "[encoded data removed]",
      "text/plain": [
       "<Figure size 900x900 with 2 Axes>"
      ]
     },
     "metadata": {},
     "output_type": "display_data"
    }
   ],
   "source": [
    "plt.figure(figsize=(9,9))\n",
    "sns.heatmap(cm, annot=True, fmt=\"d\", linewidth=.5, square=True, cmap = \"Blues_r\")\n",
    "plt.ylabel(\"Actual label\")\n",
    "plt.xlabel(\"Predicted label\")\n",
    "all_sample_title = \"Accuracy Score: {0}\".format(score)\n",
    "plt.title(all_sample_title,size = 15)\n",
    "plt.show()"
   ]
  },
  {
   "cell_type": "markdown",
   "id": "d0085100-ffad-4806-9076-c7f933550f65",
   "metadata": {},
   "source": [
    "### 13. Explanation of Confusion Matrix\n",
    "<img src=\"Image/Logistic_Regression8.JPG\" width=\"1200\" height=\"300\">"
   ]
  },
  {
   "cell_type": "markdown",
   "id": "b332c674-ab80-48c5-9715-fee382658020",
   "metadata": {},
   "source": [
    "### 14. Prediction"
   ]
  },
  {
   "cell_type": "code",
   "execution_count": 19,
   "id": "2341dafd-b7c8-4d5e-b907-83efaf49c69e",
   "metadata": {},
   "outputs": [
    {
     "data": {
      "image/png": "[encoded data removed]",
      "text/plain": [
       "<Figure size 2000x300 with 4 Axes>"
      ]
     },
     "metadata": {},
     "output_type": "display_data"
    }
   ],
   "source": [
    "index = 0\n",
    "classifiedIndex = []\n",
    "for pred, actual in zip (y_pred, y_test):\n",
    "    if pred == actual:\n",
    "        classifiedIndex.append(index)\n",
    "    index+=1\n",
    "plt.figure(figsize=(20,3))\n",
    "for plotIndex, wrong in enumerate(classifiedIndex[0:4]):\n",
    "    plt.subplot(1,4,plotIndex+1)\n",
    "    plt.imshow(np.reshape(X_test[wrong], (8,8)), cmap=plt.cm.gray)\n",
    "    plt.title(\"Predicted: {}, Actual: {}\" .format(y_pred[wrong], y_test[wrong], fontsize=20))"
   ]
  },
  {
   "cell_type": "markdown",
   "id": "86892695-6957-42fa-9151-f617e94bfe8d",
   "metadata": {},
   "source": [
    "### loss function\n",
    "The loss function for logistic regression is called the logistic loss or cross-entropy loss. \n",
    "\n",
    "It is used to measure the error between the predicted probabilities and the actual binary labels. "
   ]
  },
  {
   "cell_type": "code",
   "execution_count": 27,
   "id": "76150d97-27da-43cf-ae76-ceffb09f7527",
   "metadata": {},
   "outputs": [
    {
     "data": {
      "text/plain": [
       "0.3032695630496172"
      ]
     },
     "execution_count": 27,
     "metadata": {},
     "output_type": "execute_result"
    }
   ],
   "source": [
    "from sklearn.metrics import log_loss\n",
    "y_prob = logisticRegr.predict_proba(X_test)\n",
    "log_loss(y_test, y_prob)"
   ]
  },
  {
   "cell_type": "code",
   "execution_count": 53,
   "id": "baf4941e-c5d3-479a-979e-759f47680aa0",
   "metadata": {},
   "outputs": [
    {
     "data": {
      "text/plain": [
       "0.9492753623188406"
      ]
     },
     "execution_count": 53,
     "metadata": {},
     "output_type": "execute_result"
    }
   ],
   "source": [
    "from collections import defaultdict\n",
    "\n",
    "from sklearn.metrics import (\n",
    "    f1_score,\n",
    "    log_loss,\n",
    "    precision_score,\n",
    "    recall_score,\n",
    "    roc_auc_score,\n",
    ")\n",
    "import pandas as pd\n",
    "\n",
    "precision_score(y_test, y_pred, average='micro')"
   ]
  },
  {
   "cell_type": "code",
   "execution_count": 77,
   "id": "0df3a1e5-f3a9-4381-9062-a055e552c1ce",
   "metadata": {},
   "outputs": [
    {
     "data": {
      "text/html": [
       "<div>\n",
       "<style scoped>\n",
       "    .dataframe tbody tr th:only-of-type {\n",
       "        vertical-align: middle;\n",
       "    }\n",
       "\n",
       "    .dataframe tbody tr th {\n",
       "        vertical-align: top;\n",
       "    }\n",
       "\n",
       "    .dataframe thead th {\n",
       "        text-align: right;\n",
       "    }\n",
       "</style>\n",
       "<table border=\"1\" class=\"dataframe\">\n",
       "  <thead>\n",
       "    <tr style=\"text-align: right;\">\n",
       "      <th></th>\n",
       "      <th>log loss</th>\n",
       "      <th>Roc auc</th>\n",
       "      <th>Accuracy</th>\n",
       "      <th>Precision</th>\n",
       "      <th>Recall</th>\n",
       "      <th>F1</th>\n",
       "    </tr>\n",
       "  </thead>\n",
       "  <tbody>\n",
       "    <tr>\n",
       "      <th>0</th>\n",
       "      <td>0.3033</td>\n",
       "      <td>0.9955</td>\n",
       "      <td>0.9493</td>\n",
       "      <td>0.9516</td>\n",
       "      <td>0.9493</td>\n",
       "      <td>0.9498</td>\n",
       "    </tr>\n",
       "  </tbody>\n",
       "</table>\n",
       "</div>"
      ],
      "text/plain": [
       "   log loss  Roc auc  Accuracy  Precision   Recall      F1 \n",
       "0    0.3033   0.9955    0.9493      0.9516   0.9493  0.9498"
      ]
     },
     "execution_count": 77,
     "metadata": {},
     "output_type": "execute_result"
    }
   ],
   "source": [
    "scores = defaultdict(list)\n",
    "\n",
    "\n",
    "scores[\"log loss\"].append(log_loss(y_test, y_prob))\n",
    "scores[\"Roc auc\"].append(roc_auc_score(y_test, y_prob, multi_class='ovr'))\n",
    "scores[\"Accuracy\"].append(accuracy_score(y_test, y_pred))\n",
    "\n",
    "for metric in [precision_score, recall_score, f1_score]:\n",
    "    score_name = metric.__name__.replace(\"_\", \" \").replace(\"score\", \"\").capitalize()\n",
    "    scores[score_name].append(metric(y_test, y_pred, average='weighted'))\n",
    "\n",
    "score_df = pd.DataFrame(scores)\n",
    "score_df.round(decimals=4)"
   ]
  }
 ],
 "metadata": {
  "kernelspec": {
   "display_name": "Python 3 (ipykernel)",
   "language": "python",
   "name": "python3"
  },
  "language_info": {
   "codemirror_mode": {
    "name": "ipython",
    "version": 3
   },
   "file_extension": ".py",
   "mimetype": "text/x-python",
   "name": "python",
   "nbconvert_exporter": "python",
   "pygments_lexer": "ipython3",
   "version": "3.9.17"
  }
 },
 "nbformat": 4,
 "nbformat_minor": 5
}
