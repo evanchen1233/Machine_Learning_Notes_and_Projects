{
 "cells": [
  {
   "cell_type": "markdown",
   "id": "75f07a4a-04a8-4d66-9f0d-afd510a752f3",
   "metadata": {},
   "source": [
    "### How is logistic regression related to linear regression?\n",
    "They use labeled datasets to make predictions and are supervised Machine Learning algorithms."
   ]
  },
  {
   "cell_type": "markdown",
   "id": "117e13ba-fb6c-42c0-a6da-a7e044ff8205",
   "metadata": {},
   "source": [
    "### What's the difference between logistic regression and linear regression?\n",
    "Linear Regression is used to solved Regression problems where as Logistic Regression is used to solve Classification problems."
   ]
  },
  {
   "cell_type": "markdown",
   "id": "28937d17-42f9-4192-a248-8a990539bd76",
   "metadata": {},
   "source": [
    "### Why Logistic regression is linear regression?\n",
    "Logistic regression is considered generalized linear model because the outcome depends on the sum of the inputs and parameters."
   ]
  },
  {
   "cell_type": "markdown",
   "id": "fcbfedff-c931-456d-8415-33bbd80e399a",
   "metadata": {},
   "source": [
    "### Is cost function same as loss function?\n",
    "While the loss function calculates the error for a single data point (sample), the cost function calculates the loss for the entire dataset."
   ]
  },
  {
   "cell_type": "markdown",
   "id": "0f60db10-c60e-46d2-b367-ef5e080b8965",
   "metadata": {},
   "source": [
    "### Why is RMSE preferred over MSE?\r\n",
    "RMSE is one of the most common metrics to use when working with regression models and is often preferred over MSE. The reason for this is primarily the much greater interpretation of the resulting number, which makes it much easier to understand the objective performance of the mode, and is less sensitive to outliers\n",
    "\n",
    "Least Squared Error."
   ]
  },
  {
   "cell_type": "markdown",
   "id": "c657d49a-f130-424f-b9a0-f1a6a64ee6a5",
   "metadata": {},
   "source": [
    "### What are the difference between precision score and recall score?\n",
    "\n",
    "The precision-recall trade-off is a common issue that arises when evaluating the performance of a classification model. Precision and recall are two metrics that are often used to evaluate the performance of a classifier, and they are often in conflict with each other.\n",
    "\n",
    "Precision measures the proportion of true positive predictions made by the model (i.e. the number of correct positive predictions divided by the total number of positive predictions). It is a useful metric for evaluating the model's ability to avoid false positives.\n",
    "\n",
    "Recall, on the other hand, measures the proportion of true positive cases that were correctly predicted by the model (i.e. the number of correct positive predictions divided by the total number of true positive cases). It is a useful metric for evaluating the model's ability to avoid false negatives."
   ]
  },
  {
   "cell_type": "markdown",
   "id": "f769c8e6-d729-42a0-8932-c7e456cdbbb5",
   "metadata": {},
   "source": [
    "###  What are the difference between accuracy score and F1 score?\n",
    "Model accuracy is a machine learning classification model performance metric that is defined as the ratio of true positives and true negatives to all positive and negative observations, but It doesn't tell us about errors, not reliable.\n",
    "\n",
    "Mathematically, it represents the ratio of the sum of true positive and true negatives out of all the predictions.\r\n",
    "\r\n",
    "Accuracy Score = (TP + TN)/ (TP + FN + TN + F\n",
    "P)\n",
    "F1 score represents the model score as a function of precision and recall score. F-score is a machine learning model performance metric that gives equal weight to both the Precision and Recall for measuring its performance in terms of accuracy, making it an alternative to Accuracy metrics (it doesn't require us to know the total number of observations). It's often used as a single value that provides high-level information about the model's output quality.\r",
    "N).\r\n",
    "Mathematically, it can be represented as a harmonic mean of precision and recall score.\r\n",
    "\r\n",
    "F1 Score = 2* Precision Score * Recall Score/ (Precision Score + Recall Score/)"
   ]
  },
  {
   "cell_type": "markdown",
   "id": "687e9245-5b4b-4201-b697-66f201567350",
   "metadata": {},
   "source": [
    "### AI vs. Machine Learning vs. Deep Learning vs. Neural Networks: What's the difference?\n",
    "* Artificial intelligence, the broadest term of the three, is used to classify machines that mimic human intelligence and human cognitive functions like problem-solving and learning.\n",
    "* Machine learning is a subset of artificial intelligence that allows for optimization.\n",
    "* Deep learning is a subset of machine learning. The primary difference between machine learning and deep learning is how each algorithm learns and how much data each type of algorithm uses.\n",
    "* Neural networks, also called artificial neural networks (ANNs) or simulated neural networks (SNNs), are a subset of machine learning and are the backbone of deep learning algorithms. They are called “neural” because they mimic how neurons in the brain signal one another.n"
   ]
  },
  {
   "cell_type": "markdown",
   "id": "b6eab856-d03f-4e83-a715-14894e33508b",
   "metadata": {},
   "source": [
    "### ML and DL\n",
    "An ML Model makes decisions based on what it has learned from the data, \r\n",
    "whereas a neural network arranges algorithms so that it can make decisions reliably on its own\r\n",
    "\r\n",
    "Common supervised learning algorithms include Linear Regression, Logistic Regression, Random Forest, \r\n",
    "Decision Trees, Naive Bayes, and Neural Networks. These perform various tasks such as regression, \r\n",
    "classification, and prediction, using labeled data for training.\r\n",
    "\r\n",
    "A neural network is a method in artificial intelligence that teaches computers to process data in a way that is inspired by the human brain. \r\n",
    "It is a type of machine learning process, called deep learning, that uses interconnected nodes or neurons \r\n",
    "in a layered structure that resembles the human brain. It creates an adaptive system that \r\n",
    "computers use to learn from their mistakes and improve continuously. Thus, artificial neural networks attempt to solve complicated problems, \r\n",
    "like summarizing documents or recognizing faces, with greater accuracy."
   ]
  },
  {
   "cell_type": "markdown",
   "id": "3e782584-bcde-4224-bad5-ca9ae4dae738",
   "metadata": {},
   "source": [
    "### What is K nearest neighbors algorithm?\r",
    " KNN classifier is a machine learning algorithm used for classification and regression problems. It works by finding the K nearest points in the training dataset and uses their class to predict the class or value of a new data point. It can handle complex data and is also easy to implement, which is why KNN has become a popular tool in the field of artificial intelligence than KNN."
   ]
  },
  {
   "cell_type": "markdown",
   "id": "c7ff1027-bd0e-43b9-aa7c-48df306203d3",
   "metadata": {},
   "source": [
    "### What is KNN algorithm used for?\n",
    "KNN algorithm is most commonly used for:\n",
    "1. Disease prediction – predicts the likelihood of a disease based on symptoms and the data available.\n",
    "2. Handwriting recognition – recognizes the handwritten characters.\n",
    "3. Image classification – recognizes images in computer vision."
   ]
  },
  {
   "cell_type": "markdown",
   "id": "d6261116-1c31-4c50-9d55-f63d4f6f85d6",
   "metadata": {},
   "source": [
    "### What is the difference between KNN and Artificial Neural Networks?\n",
    "K-nearest neighbors (KNN) are mainly used for classification and regression problems, while Artificial Neural Networks (ANN) are used for complex function approximation and pattern recognition problems. Moreover, ANN has a higher computational cost than KNN."
   ]
  }
 ],
 "metadata": {
  "kernelspec": {
   "display_name": "",
   "name": ""
  },
  "language_info": {
   "name": ""
  }
 },
 "nbformat": 4,
 "nbformat_minor": 5
}
