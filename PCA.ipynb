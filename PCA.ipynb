{
 "cells": [
  {
   "cell_type": "markdown",
   "id": "a2c659f8-165a-438e-baa9-e18e00f20d43",
   "metadata": {},
   "source": [
    "# Principal Component Analysis (PCA)\n",
    "### PCA is a technique for reducing the dimensionality of datasets, increasing interpretability but at the same time minimizing information loss\n",
    "\n",
    "* PCA can be abbreviated as Principal Component Analysis\n",
    "* PCA comes under the Unsupervised Machine Learning category\n",
    "* Reducing the number of variables in a data collection while retaining as much information as feasible is the main goal of PCA. PCA can be mainly used for Dimensionality Reduction and also for important feature selection.\n",
    "* Correlated features to Independent features"
   ]
  },
  {
   "cell_type": "markdown",
   "id": "f1c5c0dd-f8ac-4c06-bb8f-5471b420b026",
   "metadata": {},
   "source": [
    "### Dimensionality Reduction\n",
    "Dimensionality reduction refers to the techniques that reduce the number of input variables in a dataset\n",
    "\n",
    "* Less dimensions for a given dataset means less computation or training time\n",
    "* Redundancy is removed after removing similar entries from the dataset\n",
    "* Space required to store the data is reduced\n",
    "* Makes the data easy for plotting in 2D and 3D plots\n",
    "* It helps to find out the most significant features and skip the rest\n",
    "* Leads to better human interpretation"
   ]
  },
  {
   "cell_type": "markdown",
   "id": "e6fc5ead-7cc0-474d-aa56-1bcd2db14d32",
   "metadata": {},
   "source": []
  },
  {
   "cell_type": "markdown",
   "id": "22bbc3f2-f4e4-4ef1-91b0-86c4abedcd20",
   "metadata": {},
   "source": []
  },
  {
   "cell_type": "markdown",
   "id": "1bb9ec18-89f7-4f04-8e36-d921815b3932",
   "metadata": {},
   "source": []
  },
  {
   "cell_type": "markdown",
   "id": "522fd207-6af8-49b0-a6fd-6138263818d2",
   "metadata": {},
   "source": []
  },
  {
   "cell_type": "markdown",
   "id": "82f29728-31b9-48ef-8af6-dd414d75e3fa",
   "metadata": {},
   "source": []
  },
  {
   "cell_type": "markdown",
   "id": "524d0a5b-c4db-4562-8a84-33174ce62532",
   "metadata": {},
   "source": []
  },
  {
   "cell_type": "markdown",
   "id": "615f5395-d365-4b51-973e-37907392dba7",
   "metadata": {},
   "source": []
  },
  {
   "cell_type": "markdown",
   "id": "14a6e829-0907-4e7a-8827-99d86c77009f",
   "metadata": {},
   "source": []
  },
  {
   "cell_type": "markdown",
   "id": "c6995dc0-8498-4166-a421-4ef360befaa1",
   "metadata": {},
   "source": []
  },
  {
   "cell_type": "markdown",
   "id": "ed156f28-d70c-4eb2-a34c-271b1bfb2311",
   "metadata": {},
   "source": []
  },
  {
   "cell_type": "markdown",
   "id": "c6a9c13a-f4c3-4e6f-a4c9-c7e7b49ff999",
   "metadata": {},
   "source": []
  }
 ],
 "metadata": {
  "kernelspec": {
   "display_name": "Python 3 (ipykernel)",
   "language": "python",
   "name": "python3"
  },
  "language_info": {
   "codemirror_mode": {
    "name": "ipython",
    "version": 3
   },
   "file_extension": ".py",
   "mimetype": "text/x-python",
   "name": "python",
   "nbconvert_exporter": "python",
   "pygments_lexer": "ipython3",
   "version": "3.9.17"
  }
 },
 "nbformat": 4,
 "nbformat_minor": 5
}
