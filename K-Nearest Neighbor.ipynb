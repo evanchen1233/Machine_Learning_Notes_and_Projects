{
 "cells": [
  {
   "cell_type": "markdown",
   "id": "469a8b8c-fd7d-4a26-9a64-4caa52827ed6",
   "metadata": {},
   "source": [
    "# K-Nearest Neighbor\n",
    "### is one of the simplest Supervised Machine Learning algorithm mostly used for classification. It is based on feature similarity and classifies a data point based on how its neighbors are classified.\n",
    "* stores all available cases and classifies new case based on a similarity measure\n",
    "* k in KNN is a parameter that refers to the number of nearest neighbors to include in the majority voting process\n",
    "* KNN algorithm can also be used for regression problems. The only difference will be using averages of nearest neighbors rather than voting from nearest neighbors."
   ]
  },
  {
   "cell_type": "markdown",
   "id": "33979a2e-1538-44bc-ae81-ff318de1a184",
   "metadata": {},
   "source": [
    "### KNN Algorithm\n",
    "We can implement a KNN model by following the below steps: \n",
    "1. Load the data\n",
    "2. Initialize the value of k\n",
    "3. For getting the predicted class, iterate from 1 to total number of training data points\n",
    "   1. Calculate the distance between test data and each row of training dataset. Here we will use Euclidean distance as our distance metric since it’s the most popular method. The other distance function or metrics that can be used are Manhattan distance, Minkowski distance, Chebyshev, cosine, etc. If there are categorical variables, hamming distance can be used.\n",
    "   2. Sort the calculated distances in ascending order based on distance values\n",
    "   3. Get top k rows from the sorted array\n",
    "   4. Get the most frequent class of these rows\n",
    "   5. Return the predicted class\n",
    "      \n",
    "In this example, k =5, 4 out of 5 neighbors are red, so we predict it is red.\n",
    "\n",
    "<img src=\"Image/KNN.JPG\"  width=\"600\" height=\"300\">"
   ]
  },
  {
   "cell_type": "markdown",
   "id": "05b8a286-6ed7-4b19-9154-d98c5119147a",
   "metadata": {},
   "source": [
    "### How do we choose 'k'?\n",
    "KNN Algorithm us based on feature similarity: Choosing the right value of k is a process called parameter tuning, and is important for better accuracy\n",
    "\n",
    "At k =3, we classify '?' as square  \n",
    "At k = 7 we classify '?' as Triangle\n",
    "\n",
    "<img src=\"Image/KNN2.JPG\"  width=\"600\" height=\"300\">\n",
    "\n",
    "When k is too small, too much bias  \n",
    "when k is too big, cost too much resource\n",
    "\n",
    "Most common way:\n",
    "* Sqrt(n), where n is the total number of data points (number of test dataset)\n",
    "* Odd value of k is selected to avoid confusion (voting)"
   ]
  },
  {
   "cell_type": "markdown",
   "id": "9aae066f-9c56-4e1c-81c9-f17dab26c81d",
   "metadata": {},
   "source": [
    "### When do we use KNN Algorithm?\n",
    "* Data is labeled\n",
    "* Data is noise free\n",
    "* Dataset is small"
   ]
  },
  {
   "cell_type": "markdown",
   "id": "e74bf59d-ba23-4111-a87d-1a1b18292a78",
   "metadata": {},
   "source": [
    "### Use Case - Predict Diabetes\n",
    "Problem statement: Predict whether a person will be diagnosed with diabetes or not\n",
    "\n",
    "Dataset: we have a dataset of 768 people who were or were not diagnosed with diabetes"
   ]
  },
  {
   "cell_type": "markdown",
   "id": "1b2dc859-d0df-4526-b683-ad608ab12321",
   "metadata": {},
   "source": [
    "### 1. Importing the Libraries"
   ]
  },
  {
   "cell_type": "code",
   "execution_count": 32,
   "id": "94544be1-51ad-4a75-a530-7bbeea53b46c",
   "metadata": {},
   "outputs": [],
   "source": [
    "import pandas as pd\n",
    "import numpy as np\n",
    "\n",
    "from sklearn.model_selection import train_test_split\n",
    "from sklearn.preprocessing import StandardScaler\n",
    "from sklearn.neighbors import KNeighborsClassifier\n",
    "from sklearn.metrics import confusion_matrix, f1_score, accuracy_score, classification_report"
   ]
  },
  {
   "cell_type": "markdown",
   "id": "b69c69c3-9acc-4c00-b893-c28537b66f6e",
   "metadata": {},
   "source": [
    "### 2. Load the dataset and have a look"
   ]
  },
  {
   "cell_type": "code",
   "execution_count": 36,
   "id": "39472662-7770-4517-b456-402280e4febd",
   "metadata": {},
   "outputs": [
    {
     "name": "stdout",
     "output_type": "stream",
     "text": [
      "<class 'pandas.core.frame.DataFrame'>\n",
      "RangeIndex: 768 entries, 0 to 767\n",
      "Data columns (total 9 columns):\n",
      " #   Column                    Non-Null Count  Dtype  \n",
      "---  ------                    --------------  -----  \n",
      " 0   Pregnancies               768 non-null    int64  \n",
      " 1   Glucose                   768 non-null    int64  \n",
      " 2   BloodPressure             768 non-null    int64  \n",
      " 3   SkinThickness             768 non-null    int64  \n",
      " 4   Insulin                   768 non-null    int64  \n",
      " 5   BMI                       768 non-null    float64\n",
      " 6   DiabetesPedigreeFunction  768 non-null    float64\n",
      " 7   Age                       768 non-null    int64  \n",
      " 8   Outcome                   768 non-null    int64  \n",
      "dtypes: float64(2), int64(7)\n",
      "memory usage: 54.1 KB\n"
     ]
    }
   ],
   "source": [
    "dataset = pd.read_csv('data/diabetes.csv')\n",
    "dataset.info()"
   ]
  },
  {
   "cell_type": "code",
   "execution_count": 37,
   "id": "9ef6ea28-e7d4-48f2-863e-11916a64494f",
   "metadata": {},
   "outputs": [
    {
     "data": {
      "text/html": [
       "<div>\n",
       "<style scoped>\n",
       "    .dataframe tbody tr th:only-of-type {\n",
       "        vertical-align: middle;\n",
       "    }\n",
       "\n",
       "    .dataframe tbody tr th {\n",
       "        vertical-align: top;\n",
       "    }\n",
       "\n",
       "    .dataframe thead th {\n",
       "        text-align: right;\n",
       "    }\n",
       "</style>\n",
       "<table border=\"1\" class=\"dataframe\">\n",
       "  <thead>\n",
       "    <tr style=\"text-align: right;\">\n",
       "      <th></th>\n",
       "      <th>Pregnancies</th>\n",
       "      <th>Glucose</th>\n",
       "      <th>BloodPressure</th>\n",
       "      <th>SkinThickness</th>\n",
       "      <th>Insulin</th>\n",
       "      <th>BMI</th>\n",
       "      <th>DiabetesPedigreeFunction</th>\n",
       "      <th>Age</th>\n",
       "      <th>Outcome</th>\n",
       "    </tr>\n",
       "  </thead>\n",
       "  <tbody>\n",
       "    <tr>\n",
       "      <th>0</th>\n",
       "      <td>6</td>\n",
       "      <td>148</td>\n",
       "      <td>72</td>\n",
       "      <td>35</td>\n",
       "      <td>0</td>\n",
       "      <td>33.6</td>\n",
       "      <td>0.627</td>\n",
       "      <td>50</td>\n",
       "      <td>1</td>\n",
       "    </tr>\n",
       "    <tr>\n",
       "      <th>1</th>\n",
       "      <td>1</td>\n",
       "      <td>85</td>\n",
       "      <td>66</td>\n",
       "      <td>29</td>\n",
       "      <td>0</td>\n",
       "      <td>26.6</td>\n",
       "      <td>0.351</td>\n",
       "      <td>31</td>\n",
       "      <td>0</td>\n",
       "    </tr>\n",
       "    <tr>\n",
       "      <th>2</th>\n",
       "      <td>8</td>\n",
       "      <td>183</td>\n",
       "      <td>64</td>\n",
       "      <td>0</td>\n",
       "      <td>0</td>\n",
       "      <td>23.3</td>\n",
       "      <td>0.672</td>\n",
       "      <td>32</td>\n",
       "      <td>1</td>\n",
       "    </tr>\n",
       "    <tr>\n",
       "      <th>3</th>\n",
       "      <td>1</td>\n",
       "      <td>89</td>\n",
       "      <td>66</td>\n",
       "      <td>23</td>\n",
       "      <td>94</td>\n",
       "      <td>28.1</td>\n",
       "      <td>0.167</td>\n",
       "      <td>21</td>\n",
       "      <td>0</td>\n",
       "    </tr>\n",
       "    <tr>\n",
       "      <th>4</th>\n",
       "      <td>0</td>\n",
       "      <td>137</td>\n",
       "      <td>40</td>\n",
       "      <td>35</td>\n",
       "      <td>168</td>\n",
       "      <td>43.1</td>\n",
       "      <td>2.288</td>\n",
       "      <td>33</td>\n",
       "      <td>1</td>\n",
       "    </tr>\n",
       "  </tbody>\n",
       "</table>\n",
       "</div>"
      ],
      "text/plain": [
       "   Pregnancies  Glucose  BloodPressure  SkinThickness  Insulin   BMI  \\\n",
       "0            6      148             72             35        0  33.6   \n",
       "1            1       85             66             29        0  26.6   \n",
       "2            8      183             64              0        0  23.3   \n",
       "3            1       89             66             23       94  28.1   \n",
       "4            0      137             40             35      168  43.1   \n",
       "\n",
       "   DiabetesPedigreeFunction  Age  Outcome  \n",
       "0                     0.627   50        1  \n",
       "1                     0.351   31        0  \n",
       "2                     0.672   32        1  \n",
       "3                     0.167   21        0  \n",
       "4                     2.288   33        1  "
      ]
     },
     "execution_count": 37,
     "metadata": {},
     "output_type": "execute_result"
    }
   ],
   "source": [
    "dataset.head()"
   ]
  },
  {
   "cell_type": "markdown",
   "id": "e43c76d7-ecda-4f33-a44b-3e994aa9d4d3",
   "metadata": {},
   "source": [
    "### 3. Data Preprocessing\n",
    "Values of columns like 'Glucose', 'BloodPressure' cannot be accepted as zeroes because it will affect the outcome.  \n",
    "We can replace such values with the mean of the respective column."
   ]
  },
  {
   "cell_type": "code",
   "execution_count": 55,
   "id": "1b161fcc-b917-43b5-9d80-edbbdb0fb0e6",
   "metadata": {},
   "outputs": [
    {
     "name": "stdout",
     "output_type": "stream",
     "text": [
      "Empty DataFrame\n",
      "Columns: [Pregnancies, Glucose, BloodPressure, SkinThickness, Insulin, BMI, DiabetesPedigreeFunction, Age, Outcome]\n",
      "Index: []\n"
     ]
    }
   ],
   "source": [
    "# Replace zeroes\n",
    "zero_not_accepted = ['Glucose', 'BloodPressure', 'SkinThickness', 'BMI', 'Insulin']\n",
    "# replace 0 with NaN, calculate mean without 0, replace NaN with mean\n",
    "for column in zero_not_accepted:\n",
    "    dataset[column] = dataset[column].replace(0, np.NaN)\n",
    "    mean = int (dataset[column].mean(skipna=True))\n",
    "    dataset[column] = dataset[column].replace(np.NaN, mean)\n",
    "\n",
    "print(dataset[dataset['Glucose']==0])"
   ]
  },
  {
   "cell_type": "markdown",
   "id": "73e8b1e3-ce8e-4f1b-a975-4d9616e354a4",
   "metadata": {},
   "source": [
    "### 4. Split Dataset"
   ]
  },
  {
   "cell_type": "code",
   "execution_count": 58,
   "id": "3b095334-0bbf-4007-b100-72c43a19e0d1",
   "metadata": {},
   "outputs": [],
   "source": [
    "X = dataset.iloc[:,:8]\n",
    "y = dataset.iloc[:,8]\n",
    "X_train, X_test, y_train, y_test = train_test_split(X, y, random_state=0, test_size=0.2)"
   ]
  },
  {
   "cell_type": "markdown",
   "id": "3e92d640-7bd0-4a83-b9ea-0cbf4839bffa",
   "metadata": {},
   "source": [
    "### 5. Feature Scaling\n",
    "### Rule of thumb: any algorithm that computes distance or assumes normality, scale your features!"
   ]
  },
  {
   "cell_type": "code",
   "execution_count": 59,
   "id": "2ffb8118-f717-4c32-a069-2416a214e73d",
   "metadata": {},
   "outputs": [],
   "source": [
    "sc_X = StandardScaler()\n",
    "X_train = sc_X.fit_transform(X_train)\n",
    "X_test = sc_X.transform(X_test)"
   ]
  },
  {
   "cell_type": "markdown",
   "id": "a923a3aa-ac80-43a0-a312-363adcea3072",
   "metadata": {},
   "source": [
    "### 6. Fitting the training data"
   ]
  },
  {
   "cell_type": "code",
   "execution_count": 62,
   "id": "34725bbd-cbbd-44f7-8953-2157153240f3",
   "metadata": {},
   "outputs": [
    {
     "data": {
      "text/plain": [
       "12.409673645990857"
      ]
     },
     "execution_count": 62,
     "metadata": {},
     "output_type": "execute_result"
    }
   ],
   "source": [
    "import math\n",
    "math.sqrt(len(y_test))"
   ]
  },
  {
   "cell_type": "code",
   "execution_count": 64,
   "id": "c85a79b5-6f43-45da-a9d8-d6b9413767c2",
   "metadata": {},
   "outputs": [
    {
     "data": {
      "text/plain": [
       "array([1, 0, 0, 1, 0, 0, 1, 1, 0, 0, 1, 1, 0, 0, 0, 0, 1, 0, 0, 0, 1, 0,\n",
       "       0, 0, 0, 0, 0, 1, 0, 0, 1, 0, 0, 1, 0, 1, 0, 0, 0, 1, 0, 0, 0, 1,\n",
       "       1, 0, 0, 0, 0, 0, 1, 0, 1, 1, 0, 0, 0, 1, 0, 1, 1, 0, 0, 1, 1, 1,\n",
       "       1, 0, 0, 0, 0, 0, 0, 1, 1, 0, 0, 1, 0, 0, 0, 0, 0, 0, 0, 0, 0, 0,\n",
       "       1, 0, 0, 0, 0, 0, 1, 0, 0, 1, 1, 1, 0, 0, 0, 0, 1, 1, 0, 1, 0, 1,\n",
       "       0, 0, 1, 1, 1, 1, 0, 0, 0, 1, 0, 0, 0, 0, 0, 0, 0, 0, 0, 0, 0, 0,\n",
       "       0, 0, 0, 1, 0, 0, 0, 0, 0, 1, 0, 0, 1, 0, 0, 0, 0, 0, 0, 0, 0, 0],\n",
       "      dtype=int64)"
      ]
     },
     "execution_count": 64,
     "metadata": {},
     "output_type": "execute_result"
    }
   ],
   "source": [
    "# Define the model: Init K-NN\n",
    "# we want odd number \n",
    "k = 12 - 1 \n",
    "# p = 2, because we are looking for diabetic or not\n",
    "clf = KNeighborsClassifier(n_neighbors=k,p=2,metric='euclidean')\n",
    "\n",
    "clf.fit(X_train, y_train)\n",
    "y_pred = clf.predict(X_test)\n",
    "y_pred"
   ]
  },
  {
   "cell_type": "markdown",
   "id": "cbf9f118-9b49-4c63-8245-aa6f877110c1",
   "metadata": {},
   "source": [
    "### 7. Evaluate Model"
   ]
  },
  {
   "cell_type": "code",
   "execution_count": 71,
   "id": "9c76239b-dbcc-4776-894a-d2994f273aba",
   "metadata": {},
   "outputs": [
    {
     "name": "stdout",
     "output_type": "stream",
     "text": [
      "[[94 13]\n",
      " [15 32]]\n",
      "0.6956521739130436\n",
      "0.8181818181818182\n",
      "              precision    recall  f1-score   support\n",
      "\n",
      "           0       0.86      0.88      0.87       107\n",
      "           1       0.71      0.68      0.70        47\n",
      "\n",
      "    accuracy                           0.82       154\n",
      "   macro avg       0.79      0.78      0.78       154\n",
      "weighted avg       0.82      0.82      0.82       154\n",
      "\n"
     ]
    }
   ],
   "source": [
    "cm = confusion_matrix(y_test, y_pred)\n",
    "print(cm)\n",
    "print(f1_score(y_test,y_pred))\n",
    "print(accuracy_score(y_test,y_pred))\n",
    "print(classification_report(y_test,y_pred))"
   ]
  },
  {
   "cell_type": "code",
   "execution_count": null,
   "id": "9e9f3a6c-4d2e-40f1-8901-283ee658ec26",
   "metadata": {},
   "outputs": [],
   "source": []
  }
 ],
 "metadata": {
  "kernelspec": {
   "display_name": "Python 3 (ipykernel)",
   "language": "python",
   "name": "python3"
  },
  "language_info": {
   "codemirror_mode": {
    "name": "ipython",
    "version": 3
   },
   "file_extension": ".py",
   "mimetype": "text/x-python",
   "name": "python",
   "nbconvert_exporter": "python",
   "pygments_lexer": "ipython3",
   "version": "3.9.17"
  }
 },
 "nbformat": 4,
 "nbformat_minor": 5
}
