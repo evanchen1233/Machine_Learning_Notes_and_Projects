{
 "cells": [
  {
   "cell_type": "markdown",
   "id": "f0561cf9-6827-4c78-bb01-8f2f784c785e",
   "metadata": {},
   "source": [
    "# Linear Regression \n",
    "### A linear regression is a statistical model used to describe the relationship between a dependent variable, y, and one or more independent variables, X. \n",
    "* Continuous output\n",
    "* The dependent variable is also called the response variable. Independent variables are also called explanatory or predictor variables.\n",
    "    * X, independent variable is a variable whose value does not change by the effect of other variables and is used to manipulate the dependent variable.\n",
    "    * Y, dependent variable is a variable whose value change when there is any manipulation in the values of independent variables.\n",
    "* Types:\n",
    "  * Simple Linear Regression (draw a line)\n",
    "  * Multiple Linear Regression (more than one independent variable)\n",
    "  * Polynomial Linear Regression (draw a curve line)"
   ]
  },
  {
   "attachments": {},
   "cell_type": "markdown",
   "id": "b7e6d8ee-90dc-4c81-aa5a-6e8d276098f9",
   "metadata": {},
   "source": [
    "### Numerical and Categorical Values\n",
    "<img src=\"Image/value_type.JPG\"  width=\"600\" height=\"300\">"
   ]
  },
  {
   "cell_type": "markdown",
   "id": "a3f1602d-6306-46c0-85f5-5f6171a13098",
   "metadata": {},
   "source": [
    "# Application of Linear Regression\n",
    "* Economic Growth and GDP\n",
    "* Product price\n",
    "* Housing sales\n",
    "* Score prediction"
   ]
  },
  {
   "cell_type": "markdown",
   "id": "a681af28-994f-46d9-8f27-4fa2e93ab549",
   "metadata": {},
   "source": [
    "### Examine 2 factors\n",
    "* Which variables in particular are significant predictors of the variables?\n",
    "* How significant is the Regression line to make the predictions with highest possible accuracy?\n",
    "\n",
    "<img src=\"Image/Linear_Regression.JPG\"  width=\"600\" height=\"300\">"
   ]
  },
  {
   "cell_type": "markdown",
   "id": "a8375db1-abdf-4240-be49-97d36de319e3",
   "metadata": {},
   "source": [
    "### Finding the Best fit line\n",
    "\n",
    "Minimising the Distance: There are lots of ways to minimize the distance between the line and the data points like Sum of Squared errors, Sum of Absolute errors, Root Mean Square error etc.\n",
    "\n",
    "<img src=\"Image/Linear_Regression2.JPG\"  width=\"600\" height=\"300\">"
   ]
  },
  {
   "cell_type": "markdown",
   "id": "14ba8653-5829-456c-9e89-cc64921fb468",
   "metadata": {},
   "source": [
    "### Multiple Linear Regression\n",
    "\n",
    "<img src=\"Image/Linear_Regression3.JPG\"  width=\"600\" height=\"300\">"
   ]
  },
  {
   "cell_type": "markdown",
   "id": "31a7466d-6518-4732-94ec-06f11fbdc64e",
   "metadata": {},
   "source": [
    "### Use case implementation of Linear Regression\n",
    "\n",
    "<img src=\"Image/Linear_Regression4.JPG\"  width=\"600\" height=\"300\">"
   ]
  },
  {
   "cell_type": "markdown",
   "id": "175d2058-4b51-4268-9de3-e2dc24ba355a",
   "metadata": {},
   "source": [
    "### 1. Importing the Libraries"
   ]
  },
  {
   "cell_type": "code",
   "execution_count": 64,
   "id": "470ee2bd-bae0-4f70-a8e2-02aba653e49a",
   "metadata": {},
   "outputs": [],
   "source": [
    "import numpy as np\n",
    "import matplotlib.pyplot as plt\n",
    "import pandas as pd\n",
    "import seaborn as sns\n",
    "%matplotlib inline"
   ]
  },
  {
   "cell_type": "markdown",
   "id": "8abacb81-d04d-4722-8c43-3d6a1f59522b",
   "metadata": {},
   "source": [
    "### 2. Importing the dataset and extracting the Independent and Dependent variables"
   ]
  },
  {
   "cell_type": "code",
   "execution_count": 65,
   "id": "2028ca5f-3f64-4117-80f2-6dec45b6b1aa",
   "metadata": {},
   "outputs": [],
   "source": [
    "companies = pd.read_csv('Data/1000_Companies.csv')\n",
    "x = companies.iloc[:, :-1].values\n",
    "y = companies.iloc[:, 4].values"
   ]
  },
  {
   "cell_type": "code",
   "execution_count": 66,
   "id": "ff9bbac4-d85d-45e6-b5cd-0a345fdfd44a",
   "metadata": {},
   "outputs": [
    {
     "data": {
      "text/html": [
       "<div>\n",
       "<style scoped>\n",
       "    .dataframe tbody tr th:only-of-type {\n",
       "        vertical-align: middle;\n",
       "    }\n",
       "\n",
       "    .dataframe tbody tr th {\n",
       "        vertical-align: top;\n",
       "    }\n",
       "\n",
       "    .dataframe thead th {\n",
       "        text-align: right;\n",
       "    }\n",
       "</style>\n",
       "<table border=\"1\" class=\"dataframe\">\n",
       "  <thead>\n",
       "    <tr style=\"text-align: right;\">\n",
       "      <th></th>\n",
       "      <th>R&amp;D Spend</th>\n",
       "      <th>Administration</th>\n",
       "      <th>Marketing Spend</th>\n",
       "      <th>State</th>\n",
       "      <th>Profit</th>\n",
       "    </tr>\n",
       "  </thead>\n",
       "  <tbody>\n",
       "    <tr>\n",
       "      <th>0</th>\n",
       "      <td>165349.20</td>\n",
       "      <td>136897.80</td>\n",
       "      <td>471784.10</td>\n",
       "      <td>New York</td>\n",
       "      <td>192261.83</td>\n",
       "    </tr>\n",
       "    <tr>\n",
       "      <th>1</th>\n",
       "      <td>162597.70</td>\n",
       "      <td>151377.59</td>\n",
       "      <td>443898.53</td>\n",
       "      <td>California</td>\n",
       "      <td>191792.06</td>\n",
       "    </tr>\n",
       "    <tr>\n",
       "      <th>2</th>\n",
       "      <td>153441.51</td>\n",
       "      <td>101145.55</td>\n",
       "      <td>407934.54</td>\n",
       "      <td>Florida</td>\n",
       "      <td>191050.39</td>\n",
       "    </tr>\n",
       "    <tr>\n",
       "      <th>3</th>\n",
       "      <td>144372.41</td>\n",
       "      <td>118671.85</td>\n",
       "      <td>383199.62</td>\n",
       "      <td>New York</td>\n",
       "      <td>182901.99</td>\n",
       "    </tr>\n",
       "    <tr>\n",
       "      <th>4</th>\n",
       "      <td>142107.34</td>\n",
       "      <td>91391.77</td>\n",
       "      <td>366168.42</td>\n",
       "      <td>Florida</td>\n",
       "      <td>166187.94</td>\n",
       "    </tr>\n",
       "  </tbody>\n",
       "</table>\n",
       "</div>"
      ],
      "text/plain": [
       "   R&D Spend  Administration  Marketing Spend       State     Profit\n",
       "0  165349.20       136897.80        471784.10    New York  192261.83\n",
       "1  162597.70       151377.59        443898.53  California  191792.06\n",
       "2  153441.51       101145.55        407934.54     Florida  191050.39\n",
       "3  144372.41       118671.85        383199.62    New York  182901.99\n",
       "4  142107.34        91391.77        366168.42     Florida  166187.94"
      ]
     },
     "execution_count": 66,
     "metadata": {},
     "output_type": "execute_result"
    }
   ],
   "source": [
    "companies.head()"
   ]
  },
  {
   "cell_type": "code",
   "execution_count": 67,
   "id": "45024a35-c229-46d9-83fa-8efe84485623",
   "metadata": {},
   "outputs": [
    {
     "name": "stdout",
     "output_type": "stream",
     "text": [
      "<class 'pandas.core.frame.DataFrame'>\n",
      "RangeIndex: 1000 entries, 0 to 999\n",
      "Data columns (total 5 columns):\n",
      " #   Column           Non-Null Count  Dtype  \n",
      "---  ------           --------------  -----  \n",
      " 0   R&D Spend        1000 non-null   float64\n",
      " 1   Administration   1000 non-null   float64\n",
      " 2   Marketing Spend  1000 non-null   float64\n",
      " 3   State            1000 non-null   object \n",
      " 4   Profit           1000 non-null   float64\n",
      "dtypes: float64(4), object(1)\n",
      "memory usage: 39.2+ KB\n"
     ]
    }
   ],
   "source": [
    "companies.info()"
   ]
  },
  {
   "cell_type": "markdown",
   "id": "20f98198-6dea-4817-afc9-760de9b79af8",
   "metadata": {},
   "source": [
    "### 3. Correlation matrix"
   ]
  },
  {
   "cell_type": "code",
   "execution_count": 80,
   "id": "167b6a6e-a7cd-45f8-ac3a-908c39fee4c2",
   "metadata": {},
   "outputs": [
    {
     "data": {
      "image/png": "[encoded data removed]",
      "text/plain": [
       "<Figure size 640x480 with 2 Axes>"
      ]
     },
     "metadata": {},
     "output_type": "display_data"
    }
   ],
   "source": [
    "sns.heatmap(companies.corr(numeric_only=True))\n",
    "plt.xticks(rotation=45)\n",
    "plt.show()"
   ]
  },
  {
   "cell_type": "markdown",
   "id": "a65db6e9-27fa-4dea-90f9-6fe40eb4ba18",
   "metadata": {},
   "source": [
    "### 4. Encoding categorical data"
   ]
  },
  {
   "cell_type": "code",
   "execution_count": 69,
   "id": "9c0757ad-1bcc-40a7-8b1e-a9c43d52fcc2",
   "metadata": {},
   "outputs": [],
   "source": [
    "from sklearn.preprocessing import LabelEncoder, OneHotEncoder\n",
    "from sklearn.compose import ColumnTransformer\n",
    "\n",
    "labelEncoder = LabelEncoder()\n",
    "x[:, 3] = labelEncoder.fit_transform(x[:, 3])\n",
    "\n",
    "columnTransformer = ColumnTransformer([(\"State\", OneHotEncoder(), [3])], remainder = 'passthrough')\n",
    "x = columnTransformer.fit_transform(x)"
   ]
  },
  {
   "cell_type": "markdown",
   "id": "f87e8fe2-180c-4ea4-88f1-c95e85c93d42",
   "metadata": {},
   "source": [
    "### 5. Avoiding Dummy Variable Trap"
   ]
  },
  {
   "cell_type": "code",
   "execution_count": 70,
   "id": "3ff4d626-6b78-4bdd-bf6f-3d4d27bca7da",
   "metadata": {},
   "outputs": [],
   "source": [
    "# remove the extra column we have when we use the OneHotEncoding\n",
    "x = x[:, 1:]"
   ]
  },
  {
   "cell_type": "markdown",
   "id": "2b7ac2ca-5f7b-407e-a9c1-386ebc0e1fe0",
   "metadata": {},
   "source": [
    "### 6. Splitting the data into Train and Test set"
   ]
  },
  {
   "cell_type": "code",
   "execution_count": 71,
   "id": "8509f103-5925-475c-abf0-644b0c0a33a5",
   "metadata": {},
   "outputs": [],
   "source": [
    "from sklearn.model_selection import train_test_split\n",
    "x_train, x_test, y_train, y_test = train_test_split(x, y, test_size= 0.2, random_state= 0)"
   ]
  },
  {
   "cell_type": "markdown",
   "id": "a316ea5e-af25-4536-9c2d-41f77cd2c89c",
   "metadata": {},
   "source": [
    "### 7. Fitting Multiple Linear Regression Model to Training set"
   ]
  },
  {
   "cell_type": "code",
   "execution_count": 72,
   "id": "efa467eb-55a6-4d7f-95d9-e9eec397227c",
   "metadata": {},
   "outputs": [
    {
     "data": {
      "text/html": [
       "<style>#sk-container-id-2 {color: black;}#sk-container-id-2 pre{padding: 0;}#sk-container-id-2 div.sk-toggleable {background-color: white;}#sk-container-id-2 label.sk-toggleable__label {cursor: pointer;display: block;width: 100%;margin-bottom: 0;padding: 0.3em;box-sizing: border-box;text-align: center;}#sk-container-id-2 label.sk-toggleable__label-arrow:before {content: \"▸\";float: left;margin-right: 0.25em;color: #696969;}#sk-container-id-2 label.sk-toggleable__label-arrow:hover:before {color: black;}#sk-container-id-2 div.sk-estimator:hover label.sk-toggleable__label-arrow:before {color: black;}#sk-container-id-2 div.sk-toggleable__content {max-height: 0;max-width: 0;overflow: hidden;text-align: left;background-color: #f0f8ff;}#sk-container-id-2 div.sk-toggleable__content pre {margin: 0.2em;color: black;border-radius: 0.25em;background-color: #f0f8ff;}#sk-container-id-2 input.sk-toggleable__control:checked~div.sk-toggleable__content {max-height: 200px;max-width: 100%;overflow: auto;}#sk-container-id-2 input.sk-toggleable__control:checked~label.sk-toggleable__label-arrow:before {content: \"▾\";}#sk-container-id-2 div.sk-estimator input.sk-toggleable__control:checked~label.sk-toggleable__label {background-color: #d4ebff;}#sk-container-id-2 div.sk-label input.sk-toggleable__control:checked~label.sk-toggleable__label {background-color: #d4ebff;}#sk-container-id-2 input.sk-hidden--visually {border: 0;clip: rect(1px 1px 1px 1px);clip: rect(1px, 1px, 1px, 1px);height: 1px;margin: -1px;overflow: hidden;padding: 0;position: absolute;width: 1px;}#sk-container-id-2 div.sk-estimator {font-family: monospace;background-color: #f0f8ff;border: 1px dotted black;border-radius: 0.25em;box-sizing: border-box;margin-bottom: 0.5em;}#sk-container-id-2 div.sk-estimator:hover {background-color: #d4ebff;}#sk-container-id-2 div.sk-parallel-item::after {content: \"\";width: 100%;border-bottom: 1px solid gray;flex-grow: 1;}#sk-container-id-2 div.sk-label:hover label.sk-toggleable__label {background-color: #d4ebff;}#sk-container-id-2 div.sk-serial::before {content: \"\";position: absolute;border-left: 1px solid gray;box-sizing: border-box;top: 0;bottom: 0;left: 50%;z-index: 0;}#sk-container-id-2 div.sk-serial {display: flex;flex-direction: column;align-items: center;background-color: white;padding-right: 0.2em;padding-left: 0.2em;position: relative;}#sk-container-id-2 div.sk-item {position: relative;z-index: 1;}#sk-container-id-2 div.sk-parallel {display: flex;align-items: stretch;justify-content: center;background-color: white;position: relative;}#sk-container-id-2 div.sk-item::before, #sk-container-id-2 div.sk-parallel-item::before {content: \"\";position: absolute;border-left: 1px solid gray;box-sizing: border-box;top: 0;bottom: 0;left: 50%;z-index: -1;}#sk-container-id-2 div.sk-parallel-item {display: flex;flex-direction: column;z-index: 1;position: relative;background-color: white;}#sk-container-id-2 div.sk-parallel-item:first-child::after {align-self: flex-end;width: 50%;}#sk-container-id-2 div.sk-parallel-item:last-child::after {align-self: flex-start;width: 50%;}#sk-container-id-2 div.sk-parallel-item:only-child::after {width: 0;}#sk-container-id-2 div.sk-dashed-wrapped {border: 1px dashed gray;margin: 0 0.4em 0.5em 0.4em;box-sizing: border-box;padding-bottom: 0.4em;background-color: white;}#sk-container-id-2 div.sk-label label {font-family: monospace;font-weight: bold;display: inline-block;line-height: 1.2em;}#sk-container-id-2 div.sk-label-container {text-align: center;}#sk-container-id-2 div.sk-container {/* jupyter's `normalize.less` sets `[hidden] { display: none; }` but bootstrap.min.css set `[hidden] { display: none !important; }` so we also need the `!important` here to be able to override the default hidden behavior on the sphinx rendered scikit-learn.org. See: https://github.com/scikit-learn/scikit-learn/issues/21755 */display: inline-block !important;position: relative;}#sk-container-id-2 div.sk-text-repr-fallback {display: none;}</style><div id=\"sk-container-id-2\" class=\"sk-top-container\"><div class=\"sk-text-repr-fallback\"><pre>LinearRegression()</pre><b>In a Jupyter environment, please rerun this cell to show the HTML representation or trust the notebook. <br />On GitHub, the HTML representation is unable to render, please try loading this page with nbviewer.org.</b></div><div class=\"sk-container\" hidden><div class=\"sk-item\"><div class=\"sk-estimator sk-toggleable\"><input class=\"sk-toggleable__control sk-hidden--visually\" id=\"sk-estimator-id-2\" type=\"checkbox\" checked><label for=\"sk-estimator-id-2\" class=\"sk-toggleable__label sk-toggleable__label-arrow\">LinearRegression</label><div class=\"sk-toggleable__content\"><pre>LinearRegression()</pre></div></div></div></div></div>"
      ],
      "text/plain": [
       "LinearRegression()"
      ]
     },
     "execution_count": 72,
     "metadata": {},
     "output_type": "execute_result"
    }
   ],
   "source": [
    "from sklearn.linear_model import LinearRegression\n",
    "model_fit = LinearRegression()\n",
    "model_fit.fit(x_train, y_train)"
   ]
  },
  {
   "cell_type": "markdown",
   "id": "9b17f88c-cb33-438b-abe2-3d65c6fafa2c",
   "metadata": {},
   "source": [
    "### 8. Predicting the Test set results"
   ]
  },
  {
   "cell_type": "code",
   "execution_count": 73,
   "id": "391c7148-380f-490b-b1c6-6f817a943fb1",
   "metadata": {},
   "outputs": [
    {
     "data": {
      "text/plain": [
       "array([ 89790.61532916,  88427.07187361,  94894.67836972, 175680.8672561 ,\n",
       "        83411.73042089, 110571.90200074, 132145.2293644 ,  91473.37719687,\n",
       "       164597.05380606,  53222.82667402,  66950.1905099 , 150566.43987004,\n",
       "       126915.20858596,  59337.85971051, 177513.91053061,  75316.28143051,\n",
       "       118248.14406603, 164574.40699901, 170937.2898107 , 182069.11645084,\n",
       "       118845.03252689,  85669.95112229, 180992.59396143,  84145.08220145,\n",
       "       105005.83769214, 101233.56772747,  53831.07669091,  56881.41475225,\n",
       "        68896.39346905, 210040.00765883, 120778.72270894, 111724.87157654,\n",
       "       101487.90541518, 137959.02649623,  63969.95996744, 108857.91214126,\n",
       "       186014.72531987, 171442.64130747, 174644.26529204, 117671.49128195,\n",
       "        96731.37857434, 165452.25779409, 107724.34331255,  50194.54176914,\n",
       "       116513.89532179,  58632.48986821, 158416.46827609,  78541.4852161 ,\n",
       "       159727.66671743, 131137.87699644, 184880.70924515, 174609.08266879,\n",
       "        93745.66352059,  78341.13383418, 180745.90439079,  84461.61490552,\n",
       "       142900.90602902, 170618.44098396,  84365.09530839, 105307.3716218 ,\n",
       "       141660.07290786,  52527.34340443, 141842.9626416 , 139176.27973195,\n",
       "        98294.52669666, 113586.86790969, 126754.21895489, 152135.51985561,\n",
       "        58864.51658956, 174285.57361129, 124624.04380783, 169065.77658978,\n",
       "        91279.3319821 , 156170.37268962,  84307.26579366,  77877.75223097,\n",
       "       120414.02421346,  93380.44273242, 139020.62514121, 143604.67103572,\n",
       "       171148.30815368, 140082.97050131, 106369.71689747, 155641.43851387,\n",
       "       140030.10330037, 110172.87893525,  69672.98677565,  88148.52068042,\n",
       "       140133.59925093, 148479.09537887, 157916.63505257,  58532.94863142,\n",
       "        93707.3842239 , 112646.37475705,  56556.18943661, 107414.89996181,\n",
       "       147352.80227752, 152144.10104034, 167808.11701783, 118750.25230713,\n",
       "       120763.27666701, 139029.95295662, 157527.90934119, 121962.0621496 ,\n",
       "        87091.32399737, 104792.91384333,  95335.22679185, 178389.52287436,\n",
       "       181942.63776381, 109831.34945507, 165254.03344096, 167806.06491902,\n",
       "       158002.44642543, 174782.86900956, 170196.77102698,  52302.18161612,\n",
       "       176938.11595789, 104751.83583865,  82710.31528806, 138890.52767844,\n",
       "       144274.74675425, 161679.0183644 , 169662.05445895, 120450.9231013 ,\n",
       "       158880.70799546, 110213.73252824, 169674.51532366,  60760.61300842,\n",
       "       159036.99629067, 158169.44286047, 174511.70494475, 156294.79927783,\n",
       "       103714.37583212,  85635.96237574, 141603.54878757, 165917.69156979,\n",
       "       121182.03641977, 170751.87883893, 100505.77549412,  82097.51033128,\n",
       "       178643.18879842, 101790.48384579,  70507.40958622,  90250.04230089,\n",
       "        61247.4996268 ,  68912.17534521,  72775.81613476, 176914.08873124,\n",
       "        89704.69244931, 129209.43730016,  92672.90938383,  88133.59175043,\n",
       "       172836.33021618,  60893.62070015, 169015.8944601 , 166450.24453204,\n",
       "       165425.54476415, 102170.5169499 , 181594.57928215,  73702.57942562,\n",
       "        91267.42979669, 135791.54160195,  64922.80257301,  71775.70235726,\n",
       "        60603.91401516, 184288.61041915, 176286.69585945, 158907.75687038,\n",
       "       141359.32216438, 154611.17928321,  58549.58863234,  90618.58407899,\n",
       "       152885.51163925, 168398.05223805,  72485.3627454 , 116064.24350667,\n",
       "        80087.80697209, 149828.90896188, 116806.9595737 , 130191.48845161,\n",
       "       174534.42670328, 293584.45948283, 146270.83174788, 150646.69178014,\n",
       "        86107.47782247,  69967.20842246,  70096.78368774,  69033.69170769,\n",
       "       120666.75708064,  89677.68014064, 166824.27091662, 125514.76626409,\n",
       "        67209.67687467, 140930.69427702, 118544.30490695, 165897.61905906,\n",
       "       168655.48652552, 147009.66805048, 141396.22104146, 109086.50634849])"
      ]
     },
     "execution_count": 73,
     "metadata": {},
     "output_type": "execute_result"
    }
   ],
   "source": [
    "y_pred = model_fit.predict(x_test)\n",
    "y_pred"
   ]
  },
  {
   "cell_type": "markdown",
   "id": "35c123ff-a0ac-4a98-986c-8b948fe81b70",
   "metadata": {},
   "source": [
    "### 9. Calculating the Coefficients and Intercepts"
   ]
  },
  {
   "cell_type": "code",
   "execution_count": 74,
   "id": "58e85a28-46b0-44f7-be87-5d363484d15b",
   "metadata": {},
   "outputs": [
    {
     "name": "stdout",
     "output_type": "stream",
     "text": [
      "[-8.80536598e+02 -6.98169073e+02  5.25845857e-01  8.44390881e-01\n",
      "  1.07574255e-01]\n"
     ]
    }
   ],
   "source": [
    "# slopes\n",
    "print(model_fit.coef_)"
   ]
  },
  {
   "cell_type": "code",
   "execution_count": 75,
   "id": "18fddeff-d5f6-4f54-a6bd-afa3490fdd52",
   "metadata": {},
   "outputs": [
    {
     "name": "stdout",
     "output_type": "stream",
     "text": [
      "-51035.22972403464\n"
     ]
    }
   ],
   "source": [
    "# constants\n",
    "print(model_fit.intercept_)"
   ]
  },
  {
   "cell_type": "markdown",
   "id": "e88c137e-5f65-484c-9fa4-dfb9d73a3c01",
   "metadata": {},
   "source": [
    "### 10. Evaluating the model"
   ]
  },
  {
   "cell_type": "code",
   "execution_count": 76,
   "id": "27552bd8-6fb4-4a60-84dd-b15ce577d9da",
   "metadata": {},
   "outputs": [
    {
     "data": {
      "text/plain": [
       "0.9112695892268834"
      ]
     },
     "execution_count": 76,
     "metadata": {},
     "output_type": "execute_result"
    }
   ],
   "source": [
    "# calculating the R squared value\n",
    "from sklearn.metrics import r2_score\n",
    "r2_score(y_test, y_pred)"
   ]
  },
  {
   "cell_type": "code",
   "execution_count": 79,
   "id": "60637821-36d1-4901-ac1f-5003e6188904",
   "metadata": {},
   "outputs": [
    {
     "data": {
      "text/plain": [
       "13861.748151480488"
      ]
     },
     "execution_count": 79,
     "metadata": {},
     "output_type": "execute_result"
    }
   ],
   "source": [
    "# calculating the RMSE value\n",
    "from sklearn.metrics import mean_squared_error\n",
    "mean_squared_error(y_test, y_pred, squared=False)"
   ]
  },
  {
   "cell_type": "markdown",
   "id": "ceb9bf07-017d-4cda-a6af-671e864310dc",
   "metadata": {},
   "source": [
    "R squared value of 0.91 proves the model is a good model\n",
    "\n",
    "R-Squared (R² or the coefficient of determination) is a statistical measure in a regression model that determines the proportion of variance in the dependent variable that can be explained by the independent variable. In other words, r-squared shows how well the data fit the regression model (the goodness of fit).It ranges from 0 to 1, with higher values indicating a better fit.\n",
    "\n",
    "Loss function (calculate error (residual)): \n",
    "\n",
    "Root mean squared error (RMSE) measures the average difference between the predicted values and the actual values. Lower RMSE indicates better model performance, as it means the model's predictions are closer to the actual values.\n",
    "\n",
    "RMSE focuses on the prediction accuracy, while R2 focuses on the goodness of fit."
   ]
  },
  {
   "cell_type": "code",
   "execution_count": null,
   "id": "e0463a78-1e82-4187-be16-e0e3f0b4548c",
   "metadata": {},
   "outputs": [],
   "source": []
  },
  {
   "cell_type": "code",
   "execution_count": null,
   "id": "dda2ddd8-1bfd-454a-ad43-4b327d8db189",
   "metadata": {},
   "outputs": [],
   "source": []
  }
 ],
 "metadata": {
  "kernelspec": {
   "display_name": "Python 3 (ipykernel)",
   "language": "python",
   "name": "python3"
  },
  "language_info": {
   "codemirror_mode": {
    "name": "ipython",
    "version": 3
   },
   "file_extension": ".py",
   "mimetype": "text/x-python",
   "name": "python",
   "nbconvert_exporter": "python",
   "pygments_lexer": "ipython3",
   "version": "3.9.17"
  }
 },
 "nbformat": 4,
 "nbformat_minor": 5
}
